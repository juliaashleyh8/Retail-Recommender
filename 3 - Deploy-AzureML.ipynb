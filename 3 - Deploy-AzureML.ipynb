{
 "cells": [
  {
   "cell_type": "code",
   "execution_count": 1,
   "metadata": {
    "application/vnd.databricks.v1+cell": {
     "cellMetadata": {},
     "inputWidgets": {},
     "nuid": "f4f70a0e-aab5-435c-85d4-a159ad521686",
     "showTitle": false,
     "title": ""
    }
   },
   "outputs": [],
   "source": [
    "import os\n",
    "import pandas as pd\n",
    "import pickle\n",
    "import json\n",
    "import requests\n",
    "import ast\n",
    "\n",
    "import turicreate\n",
    "from turicreate import SFrame\n",
    "\n",
    "import azureml.core\n",
    "from azureml.core import Workspace\n",
    "from azureml.core.model import Model, InferenceConfig\n",
    "from azureml.core.environment import Environment\n",
    "from azureml.core.conda_dependencies import CondaDependencies\n",
    "from azureml.core.webservice import AciWebservice, LocalWebservice, Webservice,  AksWebservice\n",
    "from azureml.core.compute import AksCompute, ComputeTarget\n",
    "from azureml.core.compute_target import ComputeTargetException"
   ]
  },
  {
   "cell_type": "code",
   "execution_count": 2,
   "metadata": {
    "application/vnd.databricks.v1+cell": {
     "cellMetadata": {},
     "inputWidgets": {},
     "nuid": "d00ae97c-a266-41bf-8bd5-50ff421ec21a",
     "showTitle": false,
     "title": ""
    }
   },
   "outputs": [
    {
     "name": "stdout",
     "output_type": "stream",
     "text": [
      "AZML SDK Version: 1.43.0\n",
      "Pandas Version: 1.1.5\n"
     ]
    }
   ],
   "source": [
    "print(\"AZML SDK Version:\", azureml.core.VERSION)\n",
    "print(\"Pandas Version:\", pd.__version__)"
   ]
  },
  {
   "cell_type": "code",
   "execution_count": 3,
   "metadata": {
    "application/vnd.databricks.v1+cell": {
     "cellMetadata": {},
     "inputWidgets": {},
     "nuid": "01b45487-e58e-4d09-92fa-d2f1fef357e5",
     "showTitle": false,
     "title": ""
    }
   },
   "outputs": [],
   "source": [
    "# If in Databricks\n",
    "# OUTPUT_DIR = \"/dbfs/FileStore/RetailRecommender/output/\"\n",
    "# MODELS_DIR = \"/dbfs/FileStore/RetailRecommender/models/\"\n",
    "# DEPLOY_DIR = \"/dbfs/FileStore/RetailRecommender/deploy/\"\n",
    "\n",
    "OUTPUT_DIR = \"./output/\"\n",
    "MODELS_DIR = \"./models/\"\n",
    "DEPLOY_DIR = \"./deploy/\"\n",
    "\n",
    "os.makedirs(DEPLOY_DIR, exist_ok=True)"
   ]
  },
  {
   "cell_type": "markdown",
   "metadata": {
    "application/vnd.databricks.v1+cell": {
     "cellMetadata": {},
     "inputWidgets": {},
     "nuid": "3588ac59-16f6-47a8-b4b5-2fcef153814e",
     "showTitle": false,
     "title": ""
    }
   },
   "source": [
    "# 1. Load the AML Workspace"
   ]
  },
  {
   "cell_type": "code",
   "execution_count": 4,
   "metadata": {
    "application/vnd.databricks.v1+cell": {
     "cellMetadata": {},
     "inputWidgets": {},
     "nuid": "04ac2723-ea80-402d-812d-6b4b495ac334",
     "showTitle": false,
     "title": ""
    }
   },
   "outputs": [
    {
     "name": "stdout",
     "output_type": "stream",
     "text": [
      "pabmar-workspace\n",
      "pabmar-rg\n",
      "southcentralus\n",
      "b1395605-1fe9-4af4-b3ff-82a4725a3791\n"
     ]
    }
   ],
   "source": [
    "ws = Workspace(workspace_name=\"YOUR_WORKSPACE_NAME\", \n",
    "                subscription_id=\"YOUR_SUBSCRIPTION_ID\", \n",
    "                resource_group=\"YOUR_RESOURCE_GROUP\")\n",
    "print(ws.name, ws.resource_group, ws.location, ws.subscription_id, sep = \"\\n\")"
   ]
  },
  {
   "cell_type": "markdown",
   "metadata": {
    "application/vnd.databricks.v1+cell": {
     "cellMetadata": {},
     "inputWidgets": {},
     "nuid": "43cc05e2-217a-44bc-be89-a9c8898460f3",
     "showTitle": false,
     "title": ""
    }
   },
   "source": [
    "# 2. Register the Models on AZML service model registry"
   ]
  },
  {
   "cell_type": "code",
   "execution_count": 5,
   "metadata": {
    "application/vnd.databricks.v1+cell": {
     "cellMetadata": {},
     "inputWidgets": {},
     "nuid": "ac25fdce-ebd0-4385-97af-3f7114d95576",
     "showTitle": false,
     "title": ""
    }
   },
   "outputs": [],
   "source": [
    "model_s_path = MODELS_DIR + \"recommendation_s.model\"\n",
    "model_r_path = MODELS_DIR + \"recommendation_r.model\""
   ]
  },
  {
   "cell_type": "code",
   "execution_count": 6,
   "metadata": {
    "application/vnd.databricks.v1+cell": {
     "cellMetadata": {},
     "inputWidgets": {},
     "nuid": "4ba551bd-cd1b-480b-a738-989ff775a4fe",
     "showTitle": false,
     "title": ""
    }
   },
   "outputs": [
    {
     "name": "stdout",
     "output_type": "stream",
     "text": [
      "Registering model similarity_model\n",
      "Registering model ranking_factorization_model\n"
     ]
    }
   ],
   "source": [
    "azmodel_s = Model.register( model_path = model_s_path,\n",
    "                           model_name = \"similarity_model\",\n",
    "                           workspace = ws)\n",
    "\n",
    "azmodel_r = Model.register( model_path = model_r_path,\n",
    "                           model_name = \"ranking_factorization_model\",\n",
    "                           workspace = ws)"
   ]
  },
  {
   "cell_type": "markdown",
   "metadata": {
    "application/vnd.databricks.v1+cell": {
     "cellMetadata": {},
     "inputWidgets": {},
     "nuid": "fdbabb99-6cd9-4c63-b27a-e114c53deb7f",
     "showTitle": false,
     "title": ""
    }
   },
   "source": [
    "# 3. Test score.py init() and run() functions"
   ]
  },
  {
   "cell_type": "code",
   "execution_count": 7,
   "metadata": {},
   "outputs": [],
   "source": []
  },
  {
   "cell_type": "code",
   "execution_count": 11,
   "metadata": {
    "application/vnd.databricks.v1+cell": {
     "cellMetadata": {},
     "inputWidgets": {},
     "nuid": "7e83ca76-958a-4ac6-a2ed-6d6887d29764",
     "showTitle": false,
     "title": ""
    }
   },
   "outputs": [],
   "source": [
    "import os\n",
    "\n",
    "def init():\n",
    "    \n",
    "    global model_s\n",
    "    global model_r\n",
    "    global item_column_name\n",
    "    global user_column_name\n",
    "    global rating_column_name\n",
    "    \n",
    "    item_column_name = \"itemid\"\n",
    "    user_column_name = \"visitorid\"\n",
    "    rating_column_name = \"event\"\n",
    "    \n",
    "    model_s = turicreate.load_model(model_s_path)\n",
    "    model_r = turicreate.load_model(model_r_path)\n",
    "    "
   ]
  },
  {
   "cell_type": "code",
   "execution_count": 14,
   "metadata": {
    "application/vnd.databricks.v1+cell": {
     "cellMetadata": {},
     "inputWidgets": {},
     "nuid": "7b5e717a-1136-470c-b1ac-e746c7e6d5a9",
     "showTitle": false,
     "title": ""
    }
   },
   "outputs": [],
   "source": [
    "def run(raw_data):\n",
    "    \n",
    "    data = json.loads(raw_data)\n",
    "    data = pd.DataFrame(data).to_dict(orient=\"list\")\n",
    "\n",
    "    try:\n",
    "        if user_column_name in data:\n",
    "            print(user_column_name + \" found\")\n",
    "            \n",
    "            # If observation side data exists\n",
    "            if (\"period\" or \"month\" or \"weekday\") in data:\n",
    "                print(\"Using Ranking Factorization Model\\n\")\n",
    "                users_query = turicreate.SFrame(\n",
    "                    {\"visitorid\": data[user_column_name], \n",
    "                    \"period\": data[\"period\"] if \"period\" in data else [\"Night\"] * len(data[user_column_name]),\n",
    "                    \"month\": data[\"month\"] if \"month\" in data else [8] * len(data[user_column_name]),\n",
    "                    \"weekday\": data[\"weekday\"] if \"weekday\" in data else [2] * len(data[user_column_name])\n",
    "                    }\n",
    "                )\n",
    "                result = model_r.recommend(users=users_query, k=10).to_dataframe()\n",
    "                \n",
    "            else:\n",
    "                print(\"Using Similarity Model\\n\")\n",
    "                result = model_s.recommend(users=data[user_column_name], k=10).to_dataframe()\n",
    "                \n",
    "            if item_column_name in data:\n",
    "                return \"Error: Request cannot have\" + item_column_name + \" and\" + user_column_name + \" together. Please make separate requests for user recommendations and for items basket similarity\"\n",
    "        \n",
    "        elif item_column_name in data:\n",
    "                print(\"Using Similarity Model\\n\")\n",
    "                result = model_s.get_similar_items(data[item_column_name], k=10).to_dataframe()\n",
    "                \n",
    "        else:\n",
    "            return \"Error: Payload must contain at least a field named \" + user_column_name + \" or \" + item_column_name\n",
    "    \n",
    "        return result.to_json(orient=\"records\")\n",
    "        \n",
    "    except Exception as e:\n",
    "        return e\n"
   ]
  },
  {
   "cell_type": "code",
   "execution_count": 15,
   "metadata": {
    "application/vnd.databricks.v1+cell": {
     "cellMetadata": {},
     "inputWidgets": {},
     "nuid": "650a1d48-1615-4252-bf34-2eb925ed8b70",
     "showTitle": false,
     "title": ""
    }
   },
   "outputs": [],
   "source": [
    "init()"
   ]
  },
  {
   "cell_type": "code",
   "execution_count": 28,
   "metadata": {
    "application/vnd.databricks.v1+cell": {
     "cellMetadata": {},
     "inputWidgets": {},
     "nuid": "7dc57eda-2933-4f3a-ac7c-bd8635073e59",
     "showTitle": false,
     "title": ""
    }
   },
   "outputs": [],
   "source": [
    "\n",
    "test_load1 = '''\n",
    "    [\n",
    "        {\"visitorid\":6000, \"period\":\"Night\",  \"weekday\":2},\n",
    "        {\"visitorid\":567987987988, \"period\":\"Night\", \"weekday\":2}\n",
    "    ]\n",
    "'''\n",
    "\n",
    "test_load2 = '''\n",
    "    [\n",
    "        {\"visitorid\":6000},\n",
    "        {\"visitorid\":567987987988}\n",
    "    ]\n",
    "'''\n",
    "\n",
    "test_load3 = '''\n",
    "    [\n",
    "        {\"visitorid\":6000,\"period\":\"Night\",  \"weekday\":2 , \"month\": 9},\n",
    "        {\"visitorid\":567987987988,\"period\":\"Night\",  \"weekday\":2 , \"month\": 9}\n",
    "    ]\n",
    "'''\n",
    "\n",
    "test_load4 = '''\n",
    "    [\n",
    "        {\"itemid\":152913},\n",
    "        {\"itemid\":355908}\n",
    "    ]\n",
    "'''\n"
   ]
  },
  {
   "cell_type": "code",
   "execution_count": 24,
   "metadata": {
    "application/vnd.databricks.v1+cell": {
     "cellMetadata": {},
     "inputWidgets": {},
     "nuid": "0d8a37cd-0898-4efe-b6fb-86a4f7552165",
     "showTitle": false,
     "title": ""
    }
   },
   "outputs": [
    {
     "name": "stdout",
     "output_type": "stream",
     "text": [
      "visitorid found\n",
      "Using Ranking Factorization Model\n",
      "\n"
     ]
    },
    {
     "data": {
      "text/plain": [
       "'[{\"visitorid\":6000,\"itemid\":205111,\"score\":1.2024936294,\"rank\":1},{\"visitorid\":6000,\"itemid\":238804,\"score\":1.2009366208,\"rank\":2},{\"visitorid\":6000,\"itemid\":257723,\"score\":1.2006300153,\"rank\":3},{\"visitorid\":6000,\"itemid\":379272,\"score\":1.1984604588,\"rank\":4},{\"visitorid\":6000,\"itemid\":149723,\"score\":1.1954857732,\"rank\":5},{\"visitorid\":6000,\"itemid\":217003,\"score\":1.1951026849,\"rank\":6},{\"visitorid\":6000,\"itemid\":259608,\"score\":1.1949490726,\"rank\":7},{\"visitorid\":6000,\"itemid\":184079,\"score\":1.1944965143,\"rank\":8},{\"visitorid\":6000,\"itemid\":407706,\"score\":1.1941066739,\"rank\":9},{\"visitorid\":6000,\"itemid\":32164,\"score\":1.1931563363,\"rank\":10},{\"visitorid\":567987987988,\"itemid\":205111,\"score\":1.1218765325,\"rank\":1},{\"visitorid\":567987987988,\"itemid\":257723,\"score\":1.119803068,\"rank\":2},{\"visitorid\":567987987988,\"itemid\":238804,\"score\":1.1183074689,\"rank\":3},{\"visitorid\":567987987988,\"itemid\":379272,\"score\":1.1177684607,\"rank\":4},{\"visitorid\":567987987988,\"itemid\":407706,\"score\":1.1155320153,\"rank\":5},{\"visitorid\":567987987988,\"itemid\":217003,\"score\":1.115101405,\"rank\":6},{\"visitorid\":567987987988,\"itemid\":424929,\"score\":1.1148374002,\"rank\":7},{\"visitorid\":567987987988,\"itemid\":149723,\"score\":1.1141530619,\"rank\":8},{\"visitorid\":567987987988,\"itemid\":259608,\"score\":1.1137420104,\"rank\":9},{\"visitorid\":567987987988,\"itemid\":184079,\"score\":1.1135872077,\"rank\":10}]'"
      ]
     },
     "execution_count": 24,
     "metadata": {},
     "output_type": "execute_result"
    }
   ],
   "source": [
    "run(test_load3)"
   ]
  },
  {
   "cell_type": "code",
   "execution_count": 29,
   "metadata": {
    "application/vnd.databricks.v1+cell": {
     "cellMetadata": {},
     "inputWidgets": {},
     "nuid": "73407d3b-57a2-4c5c-85f9-37609b786f9d",
     "showTitle": false,
     "title": ""
    }
   },
   "outputs": [
    {
     "name": "stdout",
     "output_type": "stream",
     "text": [
      "Using Similarity Model\n",
      "\n"
     ]
    },
    {
     "data": {
      "text/plain": [
       "'[{\"itemid\":152913,\"similar\":305216,\"score\":0.125,\"rank\":1},{\"itemid\":152913,\"similar\":139923,\"score\":0.125,\"rank\":2},{\"itemid\":152913,\"similar\":393137,\"score\":0.0833333135,\"rank\":3},{\"itemid\":152913,\"similar\":311292,\"score\":0.0476190448,\"rank\":4},{\"itemid\":152913,\"similar\":409791,\"score\":0.0434782505,\"rank\":5},{\"itemid\":152913,\"similar\":211299,\"score\":0.0204081535,\"rank\":6},{\"itemid\":152913,\"similar\":155485,\"score\":0.0117647052,\"rank\":7},{\"itemid\":355908,\"similar\":97139,\"score\":0.0858895779,\"rank\":1},{\"itemid\":355908,\"similar\":238777,\"score\":0.0756302476,\"rank\":2},{\"itemid\":355908,\"similar\":259725,\"score\":0.0731707215,\"rank\":3},{\"itemid\":355908,\"similar\":436412,\"score\":0.0722891688,\"rank\":4},{\"itemid\":355908,\"similar\":338208,\"score\":0.0676691532,\"rank\":5},{\"itemid\":355908,\"similar\":393910,\"score\":0.0634920597,\"rank\":6},{\"itemid\":355908,\"similar\":153118,\"score\":0.0634920597,\"rank\":7},{\"itemid\":355908,\"similar\":298868,\"score\":0.0588235259,\"rank\":8},{\"itemid\":355908,\"similar\":419387,\"score\":0.0581395626,\"rank\":9},{\"itemid\":355908,\"similar\":227867,\"score\":0.0519480705,\"rank\":10}]'"
      ]
     },
     "execution_count": 29,
     "metadata": {},
     "output_type": "execute_result"
    }
   ],
   "source": [
    "run(test_load4)"
   ]
  },
  {
   "cell_type": "markdown",
   "metadata": {
    "application/vnd.databricks.v1+cell": {
     "cellMetadata": {},
     "inputWidgets": {},
     "nuid": "e8647c79-1631-49cc-93f4-b715ce4b5157",
     "showTitle": false,
     "title": ""
    }
   },
   "source": [
    "# 4. Create Inference Environment"
   ]
  },
  {
   "cell_type": "code",
   "execution_count": 31,
   "metadata": {
    "application/vnd.databricks.v1+cell": {
     "cellMetadata": {},
     "inputWidgets": {},
     "nuid": "21d7aa30-e266-4033-af60-3592d2d56fac",
     "showTitle": false,
     "title": ""
    }
   },
   "outputs": [
    {
     "name": "stderr",
     "output_type": "stream",
     "text": [
      "Environment version is set. Attempting to register desired version. To auto-version, reset version to None.\n"
     ]
    },
    {
     "data": {
      "text/plain": [
       "<azureml.core.environment.ImageBuildDetails at 0x7f098a085a60>"
      ]
     },
     "execution_count": 31,
     "metadata": {},
     "output_type": "execute_result"
    }
   ],
   "source": [
    "# curated_env = Environment.get(workspace=ws, name=\"AzureML-minimal-ubuntu18.04-py37-cpu-inference\")\n",
    "# myenv = curated_env.clone(\"turicreate_env\")\n",
    "\n",
    "conda_dep = CondaDependencies()\n",
    "conda_dep.add_pip_package(\"turicreate\")\n",
    "\n",
    "myenv = Environment(name=\"turicreate_env\")\n",
    "myenv.python.conda_dependencies=conda_dep\n",
    "myenv.inferencing_stack_version = \"latest\"\n",
    "\n",
    "# Register the Environment on AZML so we can retreive it later\n",
    "myenv = myenv.register(workspace=ws)\n",
    "\n",
    "# Uncomment this to re-build the environment\n",
    "# myenv.build(workspace=ws)\n"
   ]
  },
  {
   "cell_type": "markdown",
   "metadata": {
    "application/vnd.databricks.v1+cell": {
     "cellMetadata": {},
     "inputWidgets": {},
     "nuid": "54480d0d-495f-4c5c-92ef-a4a689d61ac1",
     "showTitle": false,
     "title": ""
    }
   },
   "source": [
    "# 5. Create the inference configuration\n",
    "\n",
    "### !!! Make sure that in score.py you set the right model version!!!"
   ]
  },
  {
   "cell_type": "code",
   "execution_count": 49,
   "metadata": {
    "application/vnd.databricks.v1+cell": {
     "cellMetadata": {},
     "inputWidgets": {},
     "nuid": "7e7cd7a7-2d07-4289-ae08-d134b9a6d96f",
     "showTitle": false,
     "title": ""
    }
   },
   "outputs": [
    {
     "name": "stdout",
     "output_type": "stream",
     "text": [
      "score.py written, using ./deploy/score.py\n"
     ]
    }
   ],
   "source": [
    "scorepy_text = '''\n",
    "import os\n",
    "import sys\n",
    "import turicreate\n",
    "from turicreate import SFrame\n",
    "import pandas as pd\n",
    "import json\n",
    "\n",
    "def init():\n",
    "    \n",
    "    global model_s\n",
    "    global model_r\n",
    "    \n",
    "    model_s_name = \"similarity_model\"\n",
    "    model_s_version = \"{S_VERSION}\"\n",
    "    model_s_filename = \"recommendation_s.model\"\n",
    "    \n",
    "    model_r_name = \"ranking_factorization_model\"\n",
    "    model_r_version = \"{R_VERSION}\"  \n",
    "    model_r_filename = \"recommendation_r.model\"\n",
    "    \n",
    "    model_s_path = os.path.join(os.getenv('AZUREML_MODEL_DIR'), model_s_name, model_s_version, model_s_filename)\n",
    "    model_r_path = os.path.join(os.getenv('AZUREML_MODEL_DIR'), model_r_name, model_r_version, model_r_filename)\n",
    "    \n",
    "    print(\"model_s_path\",model_s_path)\n",
    "    print(\"model_r_path\",model_r_path)\n",
    "    \n",
    "    model_s = turicreate.load_model(model_s_path)\n",
    "    model_r = turicreate.load_model(model_r_path)\n",
    "    \n",
    "    \n",
    "def run(raw_data):\n",
    "    \n",
    "    data = json.loads(raw_data)\n",
    "    data = pd.DataFrame(data).to_dict(orient=\"list\")\n",
    "\n",
    "    try:\n",
    "        if \"{USER_ID}\" in data:\n",
    "            print(\"{USER_ID} found\")\n",
    "            \n",
    "            # If observation side data exists\n",
    "            if (\"period\" or \"month\" or \"weekday\") in data:\n",
    "                print(\"Using Ranking Factorization Model\")\n",
    "                users_query = turicreate.SFrame(\n",
    "                    {{\"visitorid\": data[\"{USER_ID}\"], \n",
    "                    \"period\": data[\"period\"] if \"period\" in data else [\"Night\"] * len(data[\"{USER_ID}\"]),\n",
    "                    \"month\": data[\"month\"] if \"month\" in data else [8] * len(data[\"{USER_ID}\"]),\n",
    "                    \"weekday\": data[\"weekday\"] if \"weekday\" in data else [2] * len(data[\"{USER_ID}\"])\n",
    "                    }}\n",
    "                )\n",
    "                result = model_r.recommend(users=users_query, k=10).to_dataframe()\n",
    "                \n",
    "            else:\n",
    "                print(\"Using Similarity Model\")\n",
    "                result = model_s.recommend(users=data[\"{USER_ID}\"], k=10).to_dataframe()\n",
    "                \n",
    "            if \"{ITEM_ID}\" in data:\n",
    "                return \"Error: Request cannot have {USER_ID} and {ITEM_ID} together. Please make separate requests for {USER_ID} recommendations and for {ITEM_ID} basket similarity\"\n",
    "        \n",
    "        elif \"{ITEM_ID}\" in data:\n",
    "                print(\"Using Similarity Model\")\n",
    "                result = model_s.get_similar_items(data[\"{ITEM_ID}\"], k=10).to_dataframe()\n",
    "                \n",
    "        else:\n",
    "            return \"Error: Payload must contain at least a field named {USER_ID} or {ITEM_ID}\"\n",
    "    \n",
    "        return result.to_json(orient=\"records\")\n",
    "        \n",
    "    except Exception as e:\n",
    "        return e\n",
    "\n",
    "'''.format(S_VERSION=6, R_VERSION=1, USER_ID=user_column_name, ITEM_ID=item_column_name)\n",
    "\n",
    "with open(DEPLOY_DIR+\"score.py\", \"w\") as file:\n",
    "    file.write(scorepy_text)\n",
    "\n",
    "print(\"score.py written, using\",DEPLOY_DIR+\"score.py\")"
   ]
  },
  {
   "cell_type": "code",
   "execution_count": 50,
   "metadata": {
    "application/vnd.databricks.v1+cell": {
     "cellMetadata": {},
     "inputWidgets": {},
     "nuid": "47bae7bf-2127-4c53-b63e-4d3d43f9b800",
     "showTitle": false,
     "title": ""
    }
   },
   "outputs": [
    {
     "name": "stdout",
     "output_type": "stream",
     "text": [
      "\r\n",
      "import os\r\n",
      "import sys\r\n",
      "import turicreate\r\n",
      "from turicreate import SFrame\r\n",
      "import pandas as pd\r\n",
      "import json\r\n",
      "\r\n",
      "def init():\r\n",
      "    \r\n",
      "    global model_s\r\n",
      "    global model_r\r\n",
      "    \r\n",
      "    model_s_name = \"similarity_model\"\r\n",
      "    model_s_version = \"6\"\r\n",
      "    model_s_filename = \"recommendation_s.model\"\r\n",
      "    \r\n",
      "    model_r_name = \"ranking_factorization_model\"\r\n",
      "    model_r_version = \"1\"  \r\n",
      "    model_r_filename = \"recommendation_r.model\"\r\n",
      "    \r\n",
      "    model_s_path = os.path.join(os.getenv('AZUREML_MODEL_DIR'), model_s_name, model_s_version, model_s_filename)\r\n",
      "    model_r_path = os.path.join(os.getenv('AZUREML_MODEL_DIR'), model_r_name, model_r_version, model_r_filename)\r\n",
      "    \r\n",
      "    print(\"model_s_path\",model_s_path)\r\n",
      "    print(\"model_r_path\",model_r_path)\r\n",
      "    \r\n",
      "    model_s = turicreate.load_model(model_s_path)\r\n",
      "    model_r = turicreate.load_model(model_r_path)\r\n",
      "    \r\n",
      "    \r\n",
      "def run(raw_data):\r\n",
      "    \r\n",
      "    data = json.loads(raw_data)\r\n",
      "    data = pd.DataFrame(data).to_dict(orient=\"list\")\r\n",
      "\r\n",
      "    try:\r\n",
      "        if \"visitorid\" in data:\r\n",
      "            print(\"visitorid found\")\r\n",
      "            \r\n",
      "            # If observation side data exists\r\n",
      "            if (\"period\" or \"month\" or \"weekday\") in data:\r\n",
      "                print(\"Using Ranking Factorization Model\")\r\n",
      "                users_query = turicreate.SFrame(\r\n",
      "                    {\"visitorid\": data[\"visitorid\"], \r\n",
      "                    \"period\": data[\"period\"] if \"period\" in data else [\"Night\"] * len(data[\"visitorid\"]),\r\n",
      "                    \"month\": data[\"month\"] if \"month\" in data else [8] * len(data[\"visitorid\"]),\r\n",
      "                    \"weekday\": data[\"weekday\"] if \"weekday\" in data else [2] * len(data[\"visitorid\"])\r\n",
      "                    }\r\n",
      "                )\r\n",
      "                result = model_r.recommend(users=users_query, k=10).to_dataframe()\r\n",
      "                \r\n",
      "            else:\r\n",
      "                print(\"Using Similarity Model\")\r\n",
      "                result = model_s.recommend(users=data[\"visitorid\"], k=10).to_dataframe()\r\n",
      "                \r\n",
      "            if \"itemid\" in data:\r\n",
      "                return \"Error: Request cannot have visitorid and itemid together. Please make separate requests for visitorid recommendations and for itemid basket similarity\"\r\n",
      "        \r\n",
      "        elif \"itemid\" in data:\r\n",
      "                print(\"Using Similarity Model\")\r\n",
      "                result = model_s.get_similar_items(data[\"itemid\"], k=10).to_dataframe()\r\n",
      "                \r\n",
      "        else:\r\n",
      "            return \"Error: Payload must contain at least a field named visitorid or itemid\"\r\n",
      "    \r\n",
      "        return result.to_json(orient=\"records\")\r\n",
      "        \r\n",
      "    except Exception as e:\r\n",
      "        return e\r\n",
      "\r\n"
     ]
    }
   ],
   "source": [
    "!cat {DEPLOY_DIR}score.py"
   ]
  },
  {
   "cell_type": "markdown",
   "metadata": {
    "application/vnd.databricks.v1+cell": {
     "cellMetadata": {},
     "inputWidgets": {},
     "nuid": "f5dfd9cd-7ffd-4c11-aca6-2b9e0cf9927f",
     "showTitle": false,
     "title": ""
    }
   },
   "source": [
    "# 6 . Deploy to Local\n",
    "This does not work on Databricks"
   ]
  },
  {
   "cell_type": "code",
   "execution_count": 51,
   "metadata": {
    "application/vnd.databricks.v1+cell": {
     "cellMetadata": {},
     "inputWidgets": {},
     "nuid": "177d909d-68a4-48a2-84b2-1cf5ec9bb6b0",
     "showTitle": false,
     "title": ""
    }
   },
   "outputs": [
    {
     "name": "stdout",
     "output_type": "stream",
     "text": [
      "Downloading model similarity_model:6 to /tmp/azureml_4sh689nc/similarity_model/6\n",
      "Downloading model ranking_factorization_model:1 to /tmp/azureml_4sh689nc/ranking_factorization_model/1\n",
      "Generating Docker build context.\n",
      "Package creation Succeeded\n",
      "Logging into Docker registry 063bc338e140482aa343d08429014bdd.azurecr.io\n",
      "Logging into Docker registry 063bc338e140482aa343d08429014bdd.azurecr.io\n",
      "Building Docker image from Dockerfile...\n",
      "Step 1/5 : FROM 063bc338e140482aa343d08429014bdd.azurecr.io/azureml/azureml_b3ed4f560aaa538365ef8fe691b671c6\n",
      " ---> dc119dbce441\n",
      "Step 2/5 : COPY azureml-app /var/azureml-app\n",
      " ---> 0254afe1dd1c\n",
      "Step 3/5 : RUN mkdir -p '/var/azureml-app' && echo eyJhY2NvdW50Q29udGV4dCI6eyJzdWJzY3JpcHRpb25JZCI6ImIxMzk1NjA1LTFmZTktNGFmNC1iM2ZmLTgyYTQ3MjVhMzc5MSIsInJlc291cmNlR3JvdXBOYW1lIjoicGFibWFyLXJnIiwiYWNjb3VudE5hbWUiOiJwYWJtYXItd29ya3NwYWNlIiwid29ya3NwYWNlSWQiOiIwNjNiYzMzOC1lMTQwLTQ4MmEtYTM0My1kMDg0MjkwMTRiZGQifSwibW9kZWxzIjp7fSwibW9kZWxzSW5mbyI6e319 | base64 --decode > /var/azureml-app/model_config_map.json\n",
      " ---> Running in ee2e1e8c9607\n",
      " ---> eb3514092193\n",
      "Step 4/5 : RUN mv '/var/azureml-app/tmp6k7s6d8c.py' /var/azureml-app/main.py\n",
      " ---> Running in 56dfbd239e48\n",
      " ---> 4ab1d68d5ae2\n",
      "Step 5/5 : CMD [\"runsvdir\",\"/var/runit\"]\n",
      " ---> Running in 2c578c142e4d\n",
      " ---> 594612207ff5\n",
      "Successfully built 594612207ff5\n",
      "Successfully tagged test:latest\n",
      "Container (name:unruffled_keller, id:a6f989a4f4d202b2243898b9b119cbcc39087372397e53889b401058434c5cf7) cannot be killed.\n",
      "Container has been successfully cleaned up.\n",
      "Image sha256:7494c433619ebd90c130d4590579b2e3b08618d65164ec636d55e5caa9aecc12 successfully removed.\n",
      "Starting Docker container...\n",
      "Docker container running.\n"
     ]
    }
   ],
   "source": [
    "inference_config = InferenceConfig(entry_script=DEPLOY_DIR+\"score.py\",environment=myenv)\n",
    "\n",
    "deployment_config = LocalWebservice.deploy_configuration(port=6789)\n",
    "\n",
    "local_service = Model.deploy(ws, \"test\", [azmodel_s, azmodel_r], inference_config, deployment_config)"
   ]
  },
  {
   "cell_type": "code",
   "execution_count": 52,
   "metadata": {
    "application/vnd.databricks.v1+cell": {
     "cellMetadata": {},
     "inputWidgets": {},
     "nuid": "787d032b-f49a-47dc-a1df-38b65970747c",
     "showTitle": false,
     "title": ""
    }
   },
   "outputs": [],
   "source": [
    "# If container fails, check out the logs\n",
    "# local_service.get_logs()"
   ]
  },
  {
   "cell_type": "markdown",
   "metadata": {
    "application/vnd.databricks.v1+cell": {
     "cellMetadata": {},
     "inputWidgets": {},
     "nuid": "8d8a8b26-58f0-41db-8e17-fe694b98e108",
     "showTitle": false,
     "title": ""
    }
   },
   "source": [
    "## Test local web service container"
   ]
  },
  {
   "cell_type": "code",
   "execution_count": 53,
   "metadata": {
    "application/vnd.databricks.v1+cell": {
     "cellMetadata": {},
     "inputWidgets": {},
     "nuid": "34c940de-6423-4ca8-a686-e1a1368b137b",
     "showTitle": false,
     "title": ""
    }
   },
   "outputs": [
    {
     "name": "stdout",
     "output_type": "stream",
     "text": [
      "Local service hosted in: http://localhost:6789/score\n"
     ]
    }
   ],
   "source": [
    "print(\"Local service hosted in:\", local_service.scoring_uri)"
   ]
  },
  {
   "cell_type": "code",
   "execution_count": 54,
   "metadata": {
    "application/vnd.databricks.v1+cell": {
     "cellMetadata": {},
     "inputWidgets": {},
     "nuid": "445f6482-d103-4110-8abd-7192385b250f",
     "showTitle": false,
     "title": ""
    }
   },
   "outputs": [
    {
     "name": "stdout",
     "output_type": "stream",
     "text": [
      "Checking container health...\n",
      "Local webservice is running at http://localhost:6789\n",
      "[{\"visitorid\":6000,\"itemid\":205111,\"score\":1.2024936294,\"rank\":1},{\"visitorid\":6000,\"itemid\":238804,\"score\":1.2009366208,\"rank\":2},{\"visitorid\":6000,\"itemid\":257723,\"score\":1.2006300153,\"rank\":3},{\"visitorid\":6000,\"itemid\":379272,\"score\":1.1984604588,\"rank\":4},{\"visitorid\":6000,\"itemid\":149723,\"score\":1.1954857732,\"rank\":5},{\"visitorid\":6000,\"itemid\":217003,\"score\":1.1951026849,\"rank\":6},{\"visitorid\":6000,\"itemid\":259608,\"score\":1.1949490726,\"rank\":7},{\"visitorid\":6000,\"itemid\":184079,\"score\":1.1944965143,\"rank\":8},{\"visitorid\":6000,\"itemid\":407706,\"score\":1.1941066739,\"rank\":9},{\"visitorid\":6000,\"itemid\":32164,\"score\":1.1931563363,\"rank\":10},{\"visitorid\":567987987988,\"itemid\":205111,\"score\":1.1218765325,\"rank\":1},{\"visitorid\":567987987988,\"itemid\":257723,\"score\":1.119803068,\"rank\":2},{\"visitorid\":567987987988,\"itemid\":238804,\"score\":1.1183074689,\"rank\":3},{\"visitorid\":567987987988,\"itemid\":379272,\"score\":1.1177684607,\"rank\":4},{\"visitorid\":567987987988,\"itemid\":407706,\"score\":1.1155320153,\"rank\":5},{\"visitorid\":567987987988,\"itemid\":217003,\"score\":1.115101405,\"rank\":6},{\"visitorid\":567987987988,\"itemid\":424929,\"score\":1.1148374002,\"rank\":7},{\"visitorid\":567987987988,\"itemid\":149723,\"score\":1.1141530619,\"rank\":8},{\"visitorid\":567987987988,\"itemid\":259608,\"score\":1.1137420104,\"rank\":9},{\"visitorid\":567987987988,\"itemid\":184079,\"score\":1.1135872077,\"rank\":10}]\n"
     ]
    }
   ],
   "source": [
    "import json\n",
    "\n",
    "response = local_service.run(input_data = test_load3)\n",
    "print(response)"
   ]
  },
  {
   "cell_type": "code",
   "execution_count": 55,
   "metadata": {
    "application/vnd.databricks.v1+cell": {
     "cellMetadata": {},
     "inputWidgets": {},
     "nuid": "e3d61ba0-0d58-4bd2-9cec-7a87723bc181",
     "showTitle": false,
     "title": ""
    }
   },
   "outputs": [
    {
     "name": "stdout",
     "output_type": "stream",
     "text": [
      "[{\"visitorid\":6000,\"itemid\":64700,\"score\":0.0598958333,\"rank\":1},{\"visitorid\":6000,\"itemid\":158457,\"score\":0.0555555622,\"rank\":2},{\"visitorid\":6000,\"itemid\":54572,\"score\":0.0476190448,\"rank\":3},{\"visitorid\":6000,\"itemid\":342866,\"score\":0.0476190448,\"rank\":4},{\"visitorid\":6000,\"itemid\":393111,\"score\":0.0476190448,\"rank\":5},{\"visitorid\":6000,\"itemid\":464114,\"score\":0.0476190448,\"rank\":6},{\"visitorid\":6000,\"itemid\":50575,\"score\":0.0476190448,\"rank\":7},{\"visitorid\":6000,\"itemid\":279324,\"score\":0.0416666667,\"rank\":8},{\"visitorid\":6000,\"itemid\":342139,\"score\":0.0416666667,\"rank\":9},{\"visitorid\":6000,\"itemid\":26634,\"score\":0.0388888915,\"rank\":10},{\"visitorid\":567987987988,\"itemid\":456056,\"score\":0.0257491243,\"rank\":1},{\"visitorid\":567987987988,\"itemid\":119736,\"score\":0.0251864088,\"rank\":2},{\"visitorid\":567987987988,\"itemid\":338395,\"score\":0.0233529449,\"rank\":3},{\"visitorid\":567987987988,\"itemid\":439963,\"score\":0.0216234672,\"rank\":4},{\"visitorid\":567987987988,\"itemid\":186702,\"score\":0.0200717175,\"rank\":5},{\"visitorid\":567987987988,\"itemid\":213834,\"score\":0.0194312859,\"rank\":6},{\"visitorid\":567987987988,\"itemid\":62275,\"score\":0.0178080261,\"rank\":7},{\"visitorid\":567987987988,\"itemid\":89323,\"score\":0.0166921401,\"rank\":8},{\"visitorid\":567987987988,\"itemid\":334401,\"score\":0.0165238905,\"rank\":9},{\"visitorid\":567987987988,\"itemid\":146613,\"score\":0.0163567579,\"rank\":10}]\n"
     ]
    }
   ],
   "source": [
    "import urllib\n",
    "import requests\n",
    "import ast\n",
    "\n",
    "# The URL will need to the edited if ACI or AKS service\n",
    "url_aci = local_service.scoring_uri\n",
    "\n",
    "headers = {'Content-Type':'application/json'}\n",
    "body = test_load2\n",
    "\n",
    "req = urllib.request.Request(url_aci, str.encode(body), headers)\n",
    "response = ast.literal_eval(urllib.request.urlopen(req).read().decode('utf-8'))\n",
    "\n",
    "print(response)\n"
   ]
  },
  {
   "cell_type": "markdown",
   "metadata": {},
   "source": [
    "# 7. Deploy to Azure Container Instance"
   ]
  },
  {
   "cell_type": "code",
   "execution_count": 56,
   "metadata": {},
   "outputs": [
    {
     "name": "stdout",
     "output_type": "stream",
     "text": [
      "Tips: You can try get_logs(): https://aka.ms/debugimage#dockerlog or local deployment: https://aka.ms/debugimage#debug-locally to debug if deployment takes longer than 10 minutes.\n",
      "Running\n",
      "2022-12-07 00:04:35+00:00 Creating Container Registry if not exists.\n",
      "2022-12-07 00:04:35+00:00 Registering the environment.\n",
      "2022-12-07 00:04:37+00:00 Use the existing image.\n",
      "2022-12-07 00:04:37+00:00 Generating deployment configuration.\n",
      "2022-12-07 00:04:40+00:00 Submitting deployment to compute.\n",
      "2022-12-07 00:04:43+00:00 Checking the status of deployment test..\n",
      "2022-12-07 00:09:51+00:00 Checking the status of inference endpoint test.\n",
      "Succeeded\n",
      "ACI service creation operation finished, operation \"Succeeded\"\n"
     ]
    }
   ],
   "source": [
    "inference_config = InferenceConfig(entry_script=DEPLOY_DIR+\"score.py\",environment=myenv)\n",
    "\n",
    "deployment_config = AciWebservice.deploy_configuration(cpu_cores=1, memory_gb=1)\n",
    "\n",
    "aci_service = Model.deploy(ws, \"aci-service\", [azmodel_s, azmodel_r], inference_config, deployment_config, overwrite=True)\n",
    "\n",
    "aci_service.wait_for_deployment(show_output=True)"
   ]
  },
  {
   "cell_type": "markdown",
   "metadata": {},
   "source": [
    "## Test ACI URL API Endpoint"
   ]
  },
  {
   "cell_type": "code",
   "execution_count": 58,
   "metadata": {},
   "outputs": [
    {
     "data": {
      "text/plain": [
       "'http://71f08952-e588-491d-a93e-40ce53b4cff3.southcentralus.azurecontainer.io/score'"
      ]
     },
     "execution_count": 58,
     "metadata": {},
     "output_type": "execute_result"
    }
   ],
   "source": [
    "aci_service.scoring_uri"
   ]
  },
  {
   "cell_type": "code",
   "execution_count": 57,
   "metadata": {},
   "outputs": [
    {
     "name": "stdout",
     "output_type": "stream",
     "text": [
      "[{\"visitorid\":6000,\"itemid\":64700,\"score\":0.0598958333,\"rank\":1},{\"visitorid\":6000,\"itemid\":158457,\"score\":0.0555555622,\"rank\":2},{\"visitorid\":6000,\"itemid\":54572,\"score\":0.0476190448,\"rank\":3},{\"visitorid\":6000,\"itemid\":342866,\"score\":0.0476190448,\"rank\":4},{\"visitorid\":6000,\"itemid\":393111,\"score\":0.0476190448,\"rank\":5},{\"visitorid\":6000,\"itemid\":464114,\"score\":0.0476190448,\"rank\":6},{\"visitorid\":6000,\"itemid\":50575,\"score\":0.0476190448,\"rank\":7},{\"visitorid\":6000,\"itemid\":279324,\"score\":0.0416666667,\"rank\":8},{\"visitorid\":6000,\"itemid\":342139,\"score\":0.0416666667,\"rank\":9},{\"visitorid\":6000,\"itemid\":26634,\"score\":0.0388888915,\"rank\":10},{\"visitorid\":567987987988,\"itemid\":456056,\"score\":0.0257491243,\"rank\":1},{\"visitorid\":567987987988,\"itemid\":119736,\"score\":0.0251864088,\"rank\":2},{\"visitorid\":567987987988,\"itemid\":338395,\"score\":0.0233529449,\"rank\":3},{\"visitorid\":567987987988,\"itemid\":439963,\"score\":0.0216234672,\"rank\":4},{\"visitorid\":567987987988,\"itemid\":186702,\"score\":0.0200717175,\"rank\":5},{\"visitorid\":567987987988,\"itemid\":213834,\"score\":0.0194312859,\"rank\":6},{\"visitorid\":567987987988,\"itemid\":62275,\"score\":0.0178080261,\"rank\":7},{\"visitorid\":567987987988,\"itemid\":89323,\"score\":0.0166921401,\"rank\":8},{\"visitorid\":567987987988,\"itemid\":334401,\"score\":0.0165238905,\"rank\":9},{\"visitorid\":567987987988,\"itemid\":146613,\"score\":0.0163567579,\"rank\":10}]\n"
     ]
    }
   ],
   "source": [
    "import urllib\n",
    "import requests\n",
    "import ast\n",
    "\n",
    "# The URL will need to the edited if ACI or AKS service\n",
    "url_aci = aci_service.scoring_uri\n",
    "\n",
    "headers = {'Content-Type':'application/json'}\n",
    "body = test_load2\n",
    "\n",
    "req = urllib.request.Request(url_aci, str.encode(body), headers)\n",
    "response = ast.literal_eval(urllib.request.urlopen(req).read().decode('utf-8'))\n",
    "\n",
    "print(response)\n"
   ]
  },
  {
   "cell_type": "code",
   "execution_count": 59,
   "metadata": {},
   "outputs": [],
   "source": [
    "aci_service.delete()"
   ]
  },
  {
   "cell_type": "markdown",
   "metadata": {
    "application/vnd.databricks.v1+cell": {
     "cellMetadata": {},
     "inputWidgets": {},
     "nuid": "628be469-ce99-45cb-96e0-80e652f9fe24",
     "showTitle": false,
     "title": ""
    }
   },
   "source": [
    "# 8. Deploy to Production -  managed AKS Cluster\n",
    "\n",
    "Details for SSL and more best practices for production here: https://github.com/Azure/MachineLearningNotebooks/blob/master/how-to-use-azureml/deployment/production-deploy-to-aks/production-deploy-to-aks.ipynb"
   ]
  },
  {
   "cell_type": "code",
   "execution_count": 60,
   "metadata": {
    "application/vnd.databricks.v1+cell": {
     "cellMetadata": {},
     "inputWidgets": {},
     "nuid": "e2e85cda-818a-4e66-892f-5ca0b08692c5",
     "showTitle": false,
     "title": ""
    }
   },
   "outputs": [
    {
     "name": "stdout",
     "output_type": "stream",
     "text": [
      "Found existing cluster, use it.\n"
     ]
    }
   ],
   "source": [
    "# Choose a name for your AKS cluster\n",
    "aks_name = 'my-aks'\n",
    "\n",
    "# Verify that cluster does not exist already\n",
    "try:\n",
    "    aks_target = ComputeTarget(workspace=ws, name=aks_name)\n",
    "    print('Found existing cluster, use it.')\n",
    "except ComputeTargetException:\n",
    "    # Use the default configuration (can also provide parameters to customize)\n",
    "    # https://learn.microsoft.com/en-us/python/api/azureml-core/azureml.core.compute.aks.akscompute?view=azure-ml-py\n",
    "    prov_config = AksCompute.provisioning_configuration()\n",
    "\n",
    "    # Create the cluster\n",
    "    aks_target = ComputeTarget.create(workspace = ws, \n",
    "                                    name = aks_name, \n",
    "                                    provisioning_configuration = prov_config)\n",
    "\n",
    "if aks_target.get_status() != \"Succeeded\":\n",
    "    aks_target.wait_for_completion(show_output=True)"
   ]
  },
  {
   "cell_type": "code",
   "execution_count": 63,
   "metadata": {
    "application/vnd.databricks.v1+cell": {
     "cellMetadata": {},
     "inputWidgets": {},
     "nuid": "2d17f34a-a1b5-4632-b3a5-c8643ac948bf",
     "showTitle": false,
     "title": ""
    }
   },
   "outputs": [],
   "source": [
    "# Set the web service configuration (using default here)\n",
    "# https://learn.microsoft.com/en-us/python/api/azureml-core/azureml.core.webservice.akswebservice?view=azure-ml-py#azureml-core-webservice-akswebservice-deploy-configuration\n",
    "aks_config = AksWebservice.deploy_configuration()\n",
    "\n",
    "# # Enable token auth and disable (key) auth on the webservice\n",
    "# aks_config = AksWebservice.deploy_configuration(token_auth_enabled=True, auth_enabled=False)"
   ]
  },
  {
   "cell_type": "code",
   "execution_count": 64,
   "metadata": {
    "application/vnd.databricks.v1+cell": {
     "cellMetadata": {},
     "inputWidgets": {},
     "nuid": "56b7c922-2406-458c-9216-b25ae925426b",
     "showTitle": false,
     "title": ""
    }
   },
   "outputs": [
    {
     "name": "stdout",
     "output_type": "stream",
     "text": [
      "Tips: You can try get_logs(): https://aka.ms/debugimage#dockerlog or local deployment: https://aka.ms/debugimage#debug-locally to debug if deployment takes longer than 10 minutes.\n",
      "Running\n",
      "2022-12-07 00:11:49+00:00 Creating Container Registry if not exists.\n",
      "2022-12-07 00:11:49+00:00 Registering the environment.\n",
      "2022-12-07 00:11:50+00:00 Use the existing image.\n",
      "2022-12-07 00:11:54+00:00 Checking the status of deployment aks-service..\n",
      "2022-12-07 00:12:25+00:00 Checking the status of inference endpoint aks-service.\n",
      "Succeeded\n",
      "AKS service creation operation finished, operation \"Succeeded\"\n",
      "Healthy\n",
      "CPU times: user 373 ms, sys: 86.9 ms, total: 460 ms\n",
      "Wall time: 42.9 s\n"
     ]
    }
   ],
   "source": [
    "%%time\n",
    "\n",
    "aks_service_name ='aks-service'\n",
    "\n",
    "aks_service = Model.deploy(workspace=ws,\n",
    "                           name=aks_service_name,\n",
    "                           models=[azmodel_s, azmodel_r],\n",
    "                           inference_config=inference_config,\n",
    "                           deployment_config=aks_config,\n",
    "                           deployment_target=aks_target,\n",
    "                           overwrite=True)\n",
    "\n",
    "aks_service.wait_for_deployment(show_output = True)\n",
    "print(aks_service.state)"
   ]
  },
  {
   "cell_type": "markdown",
   "metadata": {
    "application/vnd.databricks.v1+cell": {
     "cellMetadata": {},
     "inputWidgets": {},
     "nuid": "d5350a07-b3fa-4a36-a6b7-b83ce515fdfb",
     "showTitle": false,
     "title": ""
    }
   },
   "source": [
    "# 8. Test the web service using raw HTTP request"
   ]
  },
  {
   "cell_type": "code",
   "execution_count": 65,
   "metadata": {
    "application/vnd.databricks.v1+cell": {
     "cellMetadata": {},
     "inputWidgets": {},
     "nuid": "5935a168-462a-4ffc-b823-28fd9ae03a14",
     "showTitle": false,
     "title": ""
    }
   },
   "outputs": [
    {
     "name": "stdout",
     "output_type": "stream",
     "text": [
      "G46wSFtiiAFlCHHi0beyU29ceaB2dPRS\n"
     ]
    }
   ],
   "source": [
    "# # if (key) auth is enabled, retrieve the API keys. AML generates two keys.\n",
    "key1, Key2 = aks_service.get_keys()\n",
    "print(key1)\n",
    "\n",
    "# # if token auth is enabled, retrieve the token.\n",
    "# access_token, refresh_after = aks_service.get_token()"
   ]
  },
  {
   "cell_type": "code",
   "execution_count": 66,
   "metadata": {
    "application/vnd.databricks.v1+cell": {
     "cellMetadata": {},
     "inputWidgets": {},
     "nuid": "527fee7d-2a9d-4574-b291-579a7de30f7f",
     "showTitle": false,
     "title": ""
    }
   },
   "outputs": [
    {
     "name": "stdout",
     "output_type": "stream",
     "text": [
      "http://20.114.104.171:80/api/v1/service/aks-service/score\n"
     ]
    }
   ],
   "source": [
    "print(aks_service.scoring_uri)"
   ]
  },
  {
   "cell_type": "code",
   "execution_count": 68,
   "metadata": {
    "application/vnd.databricks.v1+cell": {
     "cellMetadata": {},
     "inputWidgets": {},
     "nuid": "e8627124-39dc-47e7-b4c0-6f20bdfd5ee8",
     "showTitle": false,
     "title": ""
    }
   },
   "outputs": [],
   "source": [
    "apiurl = aks_service.scoring_uri\n",
    "key = key1\n",
    "# key = \"G46wSFtiiAFlCHHi0beyU29ceaB2dPRS\"\n",
    "# apiurl = \"http://20.114.104.171:80/api/v1/service/aks-service/score\""
   ]
  },
  {
   "cell_type": "code",
   "execution_count": 69,
   "metadata": {
    "application/vnd.databricks.v1+cell": {
     "cellMetadata": {},
     "inputWidgets": {},
     "nuid": "abf7b0ae-8e78-47ae-a0be-5388b3c11d83",
     "showTitle": false,
     "title": ""
    }
   },
   "outputs": [
    {
     "name": "stdout",
     "output_type": "stream",
     "text": [
      "[{\"visitorid\":6000,\"itemid\":119736,\"score\":1.2709273953,\"rank\":1},{\"visitorid\":6000,\"itemid\":32227,\"score\":1.2562527951,\"rank\":2},{\"visitorid\":6000,\"itemid\":234215,\"score\":1.2536956422,\"rank\":3},{\"visitorid\":6000,\"itemid\":210002,\"score\":1.2502753945,\"rank\":4},{\"visitorid\":6000,\"itemid\":23762,\"score\":1.2486156024,\"rank\":5},{\"visitorid\":6000,\"itemid\":76196,\"score\":1.2428713669,\"rank\":6},{\"visitorid\":6000,\"itemid\":212006,\"score\":1.2396474962,\"rank\":7},{\"visitorid\":6000,\"itemid\":256721,\"score\":1.2389497782,\"rank\":8},{\"visitorid\":6000,\"itemid\":123664,\"score\":1.2384240537,\"rank\":9},{\"visitorid\":6000,\"itemid\":317192,\"score\":1.2381217134,\"rank\":10},{\"visitorid\":567987987988,\"itemid\":119736,\"score\":1.6954194245,\"rank\":1},{\"visitorid\":567987987988,\"itemid\":32227,\"score\":1.692107864,\"rank\":2},{\"visitorid\":567987987988,\"itemid\":234215,\"score\":1.6887668235,\"rank\":3},{\"visitorid\":567987987988,\"itemid\":76196,\"score\":1.6697236534,\"rank\":4},{\"visitorid\":567987987988,\"itemid\":210002,\"score\":1.669452417,\"rank\":5},{\"visitorid\":567987987988,\"itemid\":116675,\"score\":1.6676152015,\"rank\":6},{\"visitorid\":567987987988,\"itemid\":16344,\"score\":1.6674069973,\"rank\":7},{\"visitorid\":567987987988,\"itemid\":212006,\"score\":1.6652621947,\"rank\":8},{\"visitorid\":567987987988,\"itemid\":23762,\"score\":1.6649795125,\"rank\":9},{\"visitorid\":567987987988,\"itemid\":37254,\"score\":1.6602719495,\"rank\":10}]\n",
      "CPU times: user 6.01 ms, sys: 923 µs, total: 6.94 ms\n",
      "Wall time: 350 ms\n"
     ]
    }
   ],
   "source": [
    "%%time\n",
    "\n",
    "# # If (key) auth is enabled, don't forget to add key to the HTTP header.\n",
    "headers = {'Content-Type':'application/json', 'Authorization': 'Bearer ' + key}\n",
    "\n",
    "# # If token auth is enabled, don't forget to add token to the HTTP header.\n",
    "# headers = {'Content-Type':'application/json', 'Authorization': 'Bearer ' + access_token}\n",
    "\n",
    "resp = requests.post(apiurl, bytes(test_load1,encoding = 'utf8'), headers=headers)\n",
    "\n",
    "print(ast.literal_eval(resp.text))"
   ]
  },
  {
   "cell_type": "code",
   "execution_count": 70,
   "metadata": {
    "application/vnd.databricks.v1+cell": {
     "cellMetadata": {},
     "inputWidgets": {},
     "nuid": "c4d4e31e-bd4e-4700-93f7-318ff85dc11f",
     "showTitle": false,
     "title": ""
    }
   },
   "outputs": [],
   "source": [
    "aks_service.delete()"
   ]
  },
  {
   "cell_type": "code",
   "execution_count": null,
   "metadata": {
    "application/vnd.databricks.v1+cell": {
     "cellMetadata": {},
     "inputWidgets": {},
     "nuid": "7c6a85a9-560d-4677-8b2b-5f8bbd27d773",
     "showTitle": false,
     "title": ""
    }
   },
   "outputs": [],
   "source": [
    "# aks_service.get_logs()"
   ]
  }
 ],
 "metadata": {
  "application/vnd.databricks.v1+notebook": {
   "dashboards": [],
   "language": "python",
   "notebookMetadata": {
    "pythonIndentUnit": 4
   },
   "notebookName": "Deploy-AzureML",
   "notebookOrigID": 4076937798675624,
   "widgets": {}
  },
  "kernelspec": {
   "display_name": "Python 3.8 - AzureML",
   "language": "python",
   "name": "python38-azureml"
  },
  "language_info": {
   "codemirror_mode": {
    "name": "ipython",
    "version": 3
   },
   "file_extension": ".py",
   "mimetype": "text/x-python",
   "name": "python",
   "nbconvert_exporter": "python",
   "pygments_lexer": "ipython3",
   "version": "3.8.13"
  }
 },
 "nbformat": 4,
 "nbformat_minor": 1
}
