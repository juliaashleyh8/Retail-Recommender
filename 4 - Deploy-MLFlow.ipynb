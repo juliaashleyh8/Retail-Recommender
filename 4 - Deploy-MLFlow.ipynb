{
 "cells": [
  {
   "cell_type": "code",
   "execution_count": 1,
   "metadata": {
    "application/vnd.databricks.v1+cell": {
     "cellMetadata": {},
     "inputWidgets": {},
     "nuid": "7bd20364-7b5f-4cad-9072-6673d4ad1ed6",
     "showTitle": false,
     "title": ""
    }
   },
   "outputs": [],
   "source": [
    "import os\n",
    "import json\n",
    "import shutil\n",
    "import mlflow\n",
    "import numpy as np\n",
    "import mlflow.pyfunc\n",
    "from mlflow.models.signature import infer_signature\n",
    "from mlflow.utils.environment import _mlflow_conda_env"
   ]
  },
  {
   "cell_type": "code",
   "execution_count": null,
   "metadata": {
    "application/vnd.databricks.v1+cell": {
     "cellMetadata": {},
     "inputWidgets": {},
     "nuid": "ee05d253-4e69-486e-9944-a0ff77d76f74",
     "showTitle": false,
     "title": ""
    }
   },
   "outputs": [
    {
     "data": {
      "text/html": [
       "<style scoped>\n",
       "  .ansiout {\n",
       "    display: block;\n",
       "    unicode-bidi: embed;\n",
       "    white-space: pre-wrap;\n",
       "    word-wrap: break-word;\n",
       "    word-break: break-all;\n",
       "    font-family: \"Source Code Pro\", \"Menlo\", monospace;;\n",
       "    font-size: 13px;\n",
       "    color: #555;\n",
       "    margin-left: 4px;\n",
       "    line-height: 19px;\n",
       "  }\n",
       "</style>\n",
       "<div class=\"ansiout\"></div>"
      ]
     },
     "metadata": {
      "application/vnd.databricks.v1+output": {
       "addedWidgets": {},
       "arguments": {},
       "data": "<div class=\"ansiout\"></div>",
       "datasetInfos": [],
       "metadata": {},
       "removedWidgets": [],
       "type": "html"
      }
     },
     "output_type": "display_data"
    }
   ],
   "source": [
    "MODELS_DIR = \"/dbfs/FileStore/Retail-Recommender/models/\"\n",
    "MLFLOW_MODELS_DIR = \"/dbfs/FileStore/Retail-Recommender/mlflow_models/\"\n",
    "MLFLOW_MODELS_URI = \"dbfs:/FileStore/Retail-Recommender/mlflow_models/\"\n",
    "os.makedirs(MLFLOW_MODELS_DIR, exist_ok=True)"
   ]
  },
  {
   "cell_type": "code",
   "execution_count": null,
   "metadata": {
    "application/vnd.databricks.v1+cell": {
     "cellMetadata": {},
     "inputWidgets": {},
     "nuid": "54d51446-d2d0-425a-bf28-097759df4332",
     "showTitle": false,
     "title": ""
    }
   },
   "outputs": [
    {
     "data": {
      "text/html": [
       "<style scoped>\n",
       "  .ansiout {\n",
       "    display: block;\n",
       "    unicode-bidi: embed;\n",
       "    white-space: pre-wrap;\n",
       "    word-wrap: break-word;\n",
       "    word-break: break-all;\n",
       "    font-family: \"Source Code Pro\", \"Menlo\", monospace;;\n",
       "    font-size: 13px;\n",
       "    color: #555;\n",
       "    margin-left: 4px;\n",
       "    line-height: 19px;\n",
       "  }\n",
       "</style>\n",
       "<div class=\"ansiout\"></div>"
      ]
     },
     "metadata": {
      "application/vnd.databricks.v1+output": {
       "addedWidgets": {},
       "arguments": {},
       "data": "<div class=\"ansiout\"></div>",
       "datasetInfos": [],
       "metadata": {},
       "removedWidgets": [],
       "type": "html"
      }
     },
     "output_type": "display_data"
    }
   ],
   "source": [
    "class ModelWrapper(mlflow.pyfunc.PythonModel):\n",
    "    \"\"\"\n",
    "    Class to use Turicreate Models\n",
    "    \"\"\"\n",
    "\n",
    "    def load_context(self, context):\n",
    "        \"\"\"This method is called when loading an MLflow model with pyfunc.load_model(), as soon as the Python Model is constructed.\n",
    "        Args:\n",
    "            context: MLflow context where the model artifact is stored.\n",
    "        \"\"\"\n",
    "        import turicreate\n",
    "\n",
    "        self.model_s = turicreate.load_model(context.artifacts[\"model_s_path\"])\n",
    "        self.model_r = turicreate.load_model(context.artifacts[\"model_r_path\"])\n",
    "\n",
    "    def predict(self, context, model_input):\n",
    "        \"\"\"This is an abstract function. We customized it into a method to fetch the FastText model.\n",
    "        Args:\n",
    "            context ([type]): MLflow context where the model artifact is stored.\n",
    "            model_input ([type]): the input data to fit into the model.\n",
    "        Returns:\n",
    "            [type]: the loaded model artifact.\n",
    "        \"\"\"\n",
    "\n",
    "        import turicreate\n",
    "\n",
    "        data = model_input.to_dict('list')\n",
    "\n",
    "        try:\n",
    "            if \"visitorid\" in data:\n",
    "                print(\"visitorid found\")\n",
    "\n",
    "                # If observation side data exists\n",
    "                if (\"period\" or \"month\" or \"weekday\") in data:\n",
    "                    print(\"Using Ranking Factorization Model\")\n",
    "                    users_query = turicreate.SFrame(\n",
    "                        {\"visitorid\": data[\"visitorid\"], \n",
    "                        \"period\": data[\"period\"] if \"period\" in data else [\"Night\"] * len(data[\"visitorid\"]),\n",
    "                        \"month\": data[\"month\"] if \"month\" in data else [8] * len(data[\"visitorid\"]),\n",
    "                        \"weekday\": data[\"weekday\"] if \"weekday\" in data else [2] * len(data[\"visitorid\"])\n",
    "                        }\n",
    "                    )\n",
    "                    result = model_r.recommend(users=users_query, k=10).to_dataframe()\n",
    "\n",
    "                else:\n",
    "                    print(\"Using Similarity Model\")\n",
    "                    result = model_s.recommend(users=data[\"visitorid\"], k=10).to_dataframe()\n",
    "\n",
    "                if \"itemid\" in data:\n",
    "                    return \"Error: Request cannot have visitorid and itemid together. Please make separate requests for visitorid recommendations and for itemid basket similarity\"\n",
    "\n",
    "            elif \"itemid\" in data:\n",
    "                    print(\"Using Similarity Model\")\n",
    "                    result = model_s.get_similar_items(data[\"itemid\"], k=10).to_dataframe()\n",
    "\n",
    "            else:\n",
    "                return \"Error: Payload must contain at least a field named visitorid or itemid\"\n",
    "\n",
    "            return result\n",
    "            \n",
    "        except Exception as e:\n",
    "            return e\n"
   ]
  },
  {
   "cell_type": "code",
   "execution_count": null,
   "metadata": {
    "application/vnd.databricks.v1+cell": {
     "cellMetadata": {},
     "inputWidgets": {},
     "nuid": "7f3ac754-4b5a-415c-b561-238bd69d3dd9",
     "showTitle": false,
     "title": ""
    }
   },
   "outputs": [
    {
     "data": {
      "text/html": [
       "<style scoped>\n",
       "  .ansiout {\n",
       "    display: block;\n",
       "    unicode-bidi: embed;\n",
       "    white-space: pre-wrap;\n",
       "    word-wrap: break-word;\n",
       "    word-break: break-all;\n",
       "    font-family: \"Source Code Pro\", \"Menlo\", monospace;;\n",
       "    font-size: 13px;\n",
       "    color: #555;\n",
       "    margin-left: 4px;\n",
       "    line-height: 19px;\n",
       "  }\n",
       "</style>\n",
       "<div class=\"ansiout\"></div>"
      ]
     },
     "metadata": {
      "application/vnd.databricks.v1+output": {
       "addedWidgets": {},
       "arguments": {},
       "data": "<div class=\"ansiout\"></div>",
       "datasetInfos": [],
       "metadata": {},
       "removedWidgets": [],
       "type": "html"
      }
     },
     "output_type": "display_data"
    }
   ],
   "source": [
    "test_load1 = '''\n",
    "    [\n",
    "        {\"visitorid\":6000, \"period\":\"Night\",  \"weekday\":2},\n",
    "        {\"visitorid\":567987987988, \"period\":\"Night\", \"weekday\":2}\n",
    "    ]\n",
    "'''\n",
    "\n",
    "test_load2 = '''\n",
    "    [\n",
    "        {\"visitorid\":6000},\n",
    "        {\"visitorid\":567987987988}\n",
    "    ]\n",
    "'''\n",
    "\n",
    "test_load3 = '''\n",
    "    [\n",
    "        {\"visitorid\":6000,\"period\":\"Night\",  \"weekday\":2 , \"month\": 9},\n",
    "        {\"visitorid\":567987987988,\"period\":\"Night\",  \"weekday\":2 , \"month\": 9}\n",
    "    ]\n",
    "'''\n",
    "\n",
    "test_load4 = '''\n",
    "    [\n",
    "        {\"itemid\":152913},\n",
    "        {\"itemid\":355908}\n",
    "    ]\n",
    "'''"
   ]
  },
  {
   "cell_type": "code",
   "execution_count": null,
   "metadata": {
    "application/vnd.databricks.v1+cell": {
     "cellMetadata": {},
     "inputWidgets": {},
     "nuid": "e4ab9e26-5aac-4ccc-954e-96fefb37d92d",
     "showTitle": false,
     "title": ""
    }
   },
   "outputs": [
    {
     "data": {
      "text/html": [
       "<style scoped>\n",
       "  .ansiout {\n",
       "    display: block;\n",
       "    unicode-bidi: embed;\n",
       "    white-space: pre-wrap;\n",
       "    word-wrap: break-word;\n",
       "    word-break: break-all;\n",
       "    font-family: \"Source Code Pro\", \"Menlo\", monospace;;\n",
       "    font-size: 13px;\n",
       "    color: #555;\n",
       "    margin-left: 4px;\n",
       "    line-height: 19px;\n",
       "  }\n",
       "</style>\n",
       "<div class=\"ansiout\"></div>"
      ]
     },
     "metadata": {
      "application/vnd.databricks.v1+output": {
       "addedWidgets": {},
       "arguments": {},
       "data": "<div class=\"ansiout\"></div>",
       "datasetInfos": [],
       "metadata": {},
       "removedWidgets": [],
       "type": "html"
      }
     },
     "output_type": "display_data"
    }
   ],
   "source": [
    "# MLflow contains utilities to create a conda environment used to serve models.\n",
    "# The necessary dependencies are added to a conda.yaml file which is logged along with the model.\n",
    "conda_env =  _mlflow_conda_env(\n",
    "    additional_conda_deps=None,\n",
    "    additional_pip_deps=[\"turicreate\"],\n",
    "    additional_conda_channels=None,\n",
    ")\n",
    "\n",
    "# artifacts is where we give the local path to the models and any other data necessary to the container\n",
    "artifacts = {\n",
    "    \"model_s_path\": MODELS_DIR + \"recommendation_s.model\",\n",
    "    \"model_f_path\": MODELS_DIR + \"recommendation_r.model\"\n",
    "    }\n",
    "\n",
    "# Path where to save the MLFLow model\n",
    "mlflow_model_path = MLFLOW_MODELS_DIR + \"recommendation.model\"\n",
    "if os.path.exists(mlflow_model_path):\n",
    "    shutil.shutil.rmtree(mlflow_model_path)\n",
    "\n",
    "# Use above defined Custom Model Wrapper\n",
    "mlflow.pyfunc.save_model(\n",
    "    path=mlflow_model_path,\n",
    "    python_model=ModelWrapper(),\n",
    "    artifacts=artifacts,\n",
    ")"
   ]
  },
  {
   "cell_type": "code",
   "execution_count": null,
   "metadata": {
    "application/vnd.databricks.v1+cell": {
     "cellMetadata": {},
     "inputWidgets": {},
     "nuid": "33a31fea-bfbd-413c-9ecb-899152923d76",
     "showTitle": false,
     "title": ""
    }
   },
   "outputs": [
    {
     "data": {
      "text/html": [
       "<style scoped>\n",
       "  .ansiout {\n",
       "    display: block;\n",
       "    unicode-bidi: embed;\n",
       "    white-space: pre-wrap;\n",
       "    word-wrap: break-word;\n",
       "    word-break: break-all;\n",
       "    font-family: \"Source Code Pro\", \"Menlo\", monospace;;\n",
       "    font-size: 13px;\n",
       "    color: #555;\n",
       "    margin-left: 4px;\n",
       "    line-height: 19px;\n",
       "  }\n",
       "</style>\n",
       "<div class=\"ansiout\">Registered model &#39;recommender&#39; already exists. Creating a new version of this model...\n",
       "2022/10/30 04:07:33 INFO mlflow.tracking._model_registry.client: Waiting up to 300 seconds for model version to finish creation.                     Model name: recommender, version 3\n",
       "Created version &#39;3&#39; of model &#39;recommender&#39;.\n",
       "</div>"
      ]
     },
     "metadata": {
      "application/vnd.databricks.v1+output": {
       "addedWidgets": {},
       "arguments": {},
       "data": "<div class=\"ansiout\">Registered model &#39;recommender&#39; already exists. Creating a new version of this model...\n2022/10/30 04:07:33 INFO mlflow.tracking._model_registry.client: Waiting up to 300 seconds for model version to finish creation.                     Model name: recommender, version 3\nCreated version &#39;3&#39; of model &#39;recommender&#39;.\n</div>",
       "datasetInfos": [],
       "metadata": {},
       "removedWidgets": [],
       "type": "html"
      }
     },
     "output_type": "display_data"
    }
   ],
   "source": [
    "model_version = mlflow.register_model(\n",
    "                    model_uri = MLFLOW_MODELS_URI + \"recommendation.model\",\n",
    "                    name = \"recommender\"\n",
    "                )"
   ]
  },
  {
   "cell_type": "markdown",
   "metadata": {
    "application/vnd.databricks.v1+cell": {
     "cellMetadata": {},
     "inputWidgets": {},
     "nuid": "bcc26a6c-ebca-4e15-be84-b5226edd82f8",
     "showTitle": false,
     "title": ""
    }
   },
   "source": [
    "## Set the model to Staging"
   ]
  },
  {
   "cell_type": "code",
   "execution_count": null,
   "metadata": {
    "application/vnd.databricks.v1+cell": {
     "cellMetadata": {},
     "inputWidgets": {},
     "nuid": "d7bdb104-992f-479e-a578-777121d9b8a6",
     "showTitle": false,
     "title": ""
    }
   },
   "outputs": [],
   "source": [
    "from mlflow.tracking import MlflowClient\n",
    "\n",
    "client = MlflowClient()\n",
    "client.transition_model_version_stage(\n",
    "        name=\"recommender\",\n",
    "        version=model_version.version,\n",
    "        stage=\"Staging\", # \"Archived\" or \"Staging\" or \"Production\"\n",
    ")"
   ]
  },
  {
   "cell_type": "markdown",
   "metadata": {
    "application/vnd.databricks.v1+cell": {
     "cellMetadata": {},
     "inputWidgets": {},
     "nuid": "1d18e012-11d8-4c6c-b374-7de436c89e64",
     "showTitle": false,
     "title": ""
    }
   },
   "source": [
    "# Model serving\n",
    "You need a Databricks token to issue requests to your model endpoint. You can generate a token from the User Settings page (click Settings in the left sidebar). Copy the token into the next cell."
   ]
  },
  {
   "cell_type": "code",
   "execution_count": null,
   "metadata": {
    "application/vnd.databricks.v1+cell": {
     "cellMetadata": {},
     "inputWidgets": {},
     "nuid": "bb04f428-e1b6-4ccd-baa9-5414b33e497d",
     "showTitle": false,
     "title": ""
    }
   },
   "outputs": [
    {
     "data": {
      "text/html": [
       "<style scoped>\n",
       "  .ansiout {\n",
       "    display: block;\n",
       "    unicode-bidi: embed;\n",
       "    white-space: pre-wrap;\n",
       "    word-wrap: break-word;\n",
       "    word-break: break-all;\n",
       "    font-family: \"Source Code Pro\", \"Menlo\", monospace;;\n",
       "    font-size: 13px;\n",
       "    color: #555;\n",
       "    margin-left: 4px;\n",
       "    line-height: 19px;\n",
       "  }\n",
       "</style>\n",
       "<div class=\"ansiout\"></div>"
      ]
     },
     "metadata": {
      "application/vnd.databricks.v1+output": {
       "addedWidgets": {},
       "arguments": {},
       "data": "<div class=\"ansiout\"></div>",
       "datasetInfos": [],
       "metadata": {},
       "removedWidgets": [],
       "type": "html"
      }
     },
     "output_type": "display_data"
    }
   ],
   "source": [
    "import os\n",
    "os.environ[\"DATABRICKS_TOKEN\"] = \"YOUR_PERSONAL_TOKEN\""
   ]
  },
  {
   "cell_type": "markdown",
   "metadata": {
    "application/vnd.databricks.v1+cell": {
     "cellMetadata": {},
     "inputWidgets": {},
     "nuid": "4b02d08f-639e-4706-9db2-2e359883fad6",
     "showTitle": false,
     "title": ""
    }
   },
   "source": [
    "Click Models in the left sidebar and navigate to the registered wine model. Click the serving tab, and then click ***Enable Serving***.\n",
    "\n",
    "Then, under Call The Model, click the Python button to display a Python code snippet to issue requests. Copy the code into this notebook. It should look similar to the code in the next cell.\n",
    "\n",
    "You can use the token to make these requests from outside Databricks notebooks as well."
   ]
  },
  {
   "cell_type": "markdown",
   "metadata": {
    "application/vnd.databricks.v1+cell": {
     "cellMetadata": {},
     "inputWidgets": {},
     "nuid": "7fe02d96-d622-4f1a-81ab-bf820bffd35a",
     "showTitle": false,
     "title": ""
    }
   },
   "source": [
    "## Scoring"
   ]
  },
  {
   "cell_type": "code",
   "execution_count": null,
   "metadata": {
    "application/vnd.databricks.v1+cell": {
     "cellMetadata": {},
     "inputWidgets": {},
     "nuid": "b6cc0c4c-058f-4b19-b939-d76612702520",
     "showTitle": false,
     "title": ""
    }
   },
   "outputs": [
    {
     "data": {
      "text/html": [
       "<style scoped>\n",
       "  .ansiout {\n",
       "    display: block;\n",
       "    unicode-bidi: embed;\n",
       "    white-space: pre-wrap;\n",
       "    word-wrap: break-word;\n",
       "    word-break: break-all;\n",
       "    font-family: \"Source Code Pro\", \"Menlo\", monospace;;\n",
       "    font-size: 13px;\n",
       "    color: #555;\n",
       "    margin-left: 4px;\n",
       "    line-height: 19px;\n",
       "  }\n",
       "</style>\n",
       "<div class=\"ansiout\"></div>"
      ]
     },
     "metadata": {
      "application/vnd.databricks.v1+output": {
       "addedWidgets": {},
       "arguments": {},
       "data": "<div class=\"ansiout\"></div>",
       "datasetInfos": [],
       "metadata": {},
       "removedWidgets": [],
       "type": "html"
      }
     },
     "output_type": "display_data"
    }
   ],
   "source": [
    "import os\n",
    "import requests\n",
    "\n",
    "def score_model(data_json):\n",
    "  url = 'https://<YOUR_DATABRICKS_WORKSPACE>.azuredatabricks.net/model/recommender/Staging/invocations'\n",
    "  headers = {'Authorization': f'Bearer {os.environ.get(\"DATABRICKS_TOKEN\")}', 'Content-Type': 'application/json'}\n",
    "  \n",
    "  response = requests.request(method='POST', headers=headers, url=url, data=data_json)\n",
    "  if response.status_code != 200:\n",
    "    raise Exception(f'Request failed with status {response.status_code}, {response.text}')\n",
    "  return response.json()\n"
   ]
  },
  {
   "cell_type": "code",
   "execution_count": null,
   "metadata": {
    "application/vnd.databricks.v1+cell": {
     "cellMetadata": {},
     "inputWidgets": {},
     "nuid": "9ea6cd96-be70-4810-a03f-6970d35bd897",
     "showTitle": false,
     "title": ""
    }
   },
   "outputs": [],
   "source": [
    "score_model(test_load1)"
   ]
  },
  {
   "cell_type": "markdown",
   "metadata": {
    "application/vnd.databricks.v1+cell": {
     "cellMetadata": {},
     "inputWidgets": {},
     "nuid": "436901a0-6ddf-410c-b003-3d505fb43c3a",
     "showTitle": false,
     "title": ""
    }
   },
   "source": [
    "## Transition model to Production"
   ]
  },
  {
   "cell_type": "code",
   "execution_count": null,
   "metadata": {
    "application/vnd.databricks.v1+cell": {
     "cellMetadata": {},
     "inputWidgets": {},
     "nuid": "ec9849ba-4d59-4715-a54b-0449fc7b022a",
     "showTitle": false,
     "title": ""
    }
   },
   "outputs": [],
   "source": [
    "from mlflow.tracking import MlflowClient\n",
    "\n",
    "client = MlflowClient()\n",
    "client.transition_model_version_stage(\n",
    "        name=\"recommender\",\n",
    "        version=model_version.version,\n",
    "        stage=\"Production\", # \"Archived\" or \"Staging\" or \"Production\"\n",
    ")"
   ]
  },
  {
   "cell_type": "code",
   "execution_count": null,
   "metadata": {
    "application/vnd.databricks.v1+cell": {
     "cellMetadata": {},
     "inputWidgets": {},
     "nuid": "587f9fe5-45f0-4a41-95ad-56e302b49f4a",
     "showTitle": false,
     "title": ""
    }
   },
   "outputs": [],
   "source": []
  }
 ],
 "metadata": {
  "application/vnd.databricks.v1+notebook": {
   "dashboards": [],
   "language": "python",
   "notebookMetadata": {
    "pythonIndentUnit": 4
   },
   "notebookName": "Deploy-MLFlow",
   "notebookOrigID": 2809668752472003,
   "widgets": {}
  },
  "kernelspec": {
   "display_name": "Python 3 (ipykernel)",
   "language": "python",
   "name": "python3"
  },
  "language_info": {
   "codemirror_mode": {
    "name": "ipython",
    "version": 3
   },
   "file_extension": ".py",
   "mimetype": "text/x-python",
   "name": "python",
   "nbconvert_exporter": "python",
   "pygments_lexer": "ipython3",
   "version": "3.8.13"
  },
  "vscode": {
   "interpreter": {
    "hash": "6d65a8c07f5b6469e0fc613f182488c0dccce05038bbda39e5ac9075c0454d11"
   }
  }
 },
 "nbformat": 4,
 "nbformat_minor": 1
}
